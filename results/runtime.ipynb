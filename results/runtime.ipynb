{
 "cells": [
  {
   "cell_type": "code",
   "execution_count": 1,
   "metadata": {},
   "outputs": [],
   "source": [
    "import numpy as np\n",
    "import matplotlib.pyplot as plt\n",
    "import os\n",
    "from argparse import Namespace"
   ]
  },
  {
   "cell_type": "code",
   "execution_count": 2,
   "metadata": {},
   "outputs": [],
   "source": [
    "td_path = 'runtime/td'\n",
    "td_logs = [os.path.join(td_path, i) for i in os.listdir(td_path) if '.out' in i] "
   ]
  },
  {
   "cell_type": "code",
   "execution_count": 3,
   "metadata": {},
   "outputs": [],
   "source": [
    "td_no_neg_path = 'runtime/td_no_neg'\n",
    "td_no_neg_logs = [os.path.join(td_no_neg_path, i) for i in os.listdir(td_no_neg_path) if '.out' in i] "
   ]
  },
  {
   "cell_type": "code",
   "execution_count": 4,
   "metadata": {},
   "outputs": [],
   "source": [
    "def read_td_log(fname):\n",
    "    file = open(fname, 'r')\n",
    "    args = eval(next(file))\n",
    "    next(file)\n",
    "    runtime, cl = args.runtime, []\n",
    "    for line in file.readlines()[:-3]:\n",
    "        line = line.strip('\\n').split(',')\n",
    "        it,tdnn_accuracy,tdsnn_accuracy,tdnn_loss,tdsnn_loss,conversion_loss = line\n",
    "        cl.append(float(conversion_loss))\n",
    "    return runtime, cl"
   ]
  },
  {
   "cell_type": "code",
   "execution_count": 5,
   "metadata": {},
   "outputs": [],
   "source": [
    "data_neg = {}\n",
    "for log in td_logs:\n",
    "    runtime, cl = read_td_log(log)\n",
    "    if runtime not in data_neg:\n",
    "        data_neg[runtime] = []\n",
    "    data_neg[runtime].append(np.mean(cl))"
   ]
  },
  {
   "cell_type": "code",
   "execution_count": 6,
   "metadata": {},
   "outputs": [],
   "source": [
    "data = {}\n",
    "for log in td_no_neg_logs:\n",
    "    runtime, cl = read_td_log(log)\n",
    "    if runtime not in data:\n",
    "        data[runtime] = []\n",
    "    data[runtime].append(np.mean(cl))"
   ]
  },
  {
   "cell_type": "code",
   "execution_count": 7,
   "metadata": {},
   "outputs": [],
   "source": [
    "clean1 = []\n",
    "for k, v in data_neg.items():\n",
    "    clean1.append([k, v[0]])\n",
    "clean1.sort(key=lambda x : x[0])\n",
    "clean1 = np.array(clean1)"
   ]
  },
  {
   "cell_type": "code",
   "execution_count": 8,
   "metadata": {},
   "outputs": [],
   "source": [
    "clean2 = []\n",
    "for k, v in data.items():\n",
    "    clean2.append([k, v[0]])\n",
    "clean2.sort(key=lambda x : x[0])\n",
    "clean2 = np.array(clean2)"
   ]
  },
  {
   "cell_type": "code",
   "execution_count": 9,
   "metadata": {},
   "outputs": [
    {
     "data": {
      "image/png": "[encoded data removed]",
      "text/plain": [
       "<Figure size 432x288 with 1 Axes>"
      ]
     },
     "metadata": {
      "needs_background": "light"
     },
     "output_type": "display_data"
    }
   ],
   "source": [
    "plt.plot(clean1[:,0], clean1[:,1], label='Negative Readout')\n",
    "plt.plot(clean2[:,0], clean2[:,1], label='Original Readout')\n",
    "plt.xlim(0, 1000)\n",
    "plt.ylim(0, 2.5)\n",
    "plt.title('TD Output Precision')\n",
    "plt.ylabel('Conversion Loss')\n",
    "plt.xlabel('Simulated Runtime (ms)')\n",
    "plt.legend()\n",
    "plt.savefig('conversion-loss.png', dpi=200, bbox_inches='tight')\n",
    "plt.savefig('conversion-loss.pdf', dpi=200)"
   ]
  }
 ],
 "metadata": {
  "kernelspec": {
   "display_name": "python3-local",
   "language": "python",
   "name": "python3"
  },
  "language_info": {
   "codemirror_mode": {
    "name": "ipython",
    "version": 3
   },
   "file_extension": ".py",
   "mimetype": "text/x-python",
   "name": "python",
   "nbconvert_exporter": "python",
   "pygments_lexer": "ipython3",
   "version": "3.6.8"
  }
 },
 "nbformat": 4,
 "nbformat_minor": 2
}
