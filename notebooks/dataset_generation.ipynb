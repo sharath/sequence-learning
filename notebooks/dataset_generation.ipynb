{
 "cells": [
  {
   "cell_type": "code",
   "execution_count": 1,
   "metadata": {},
   "outputs": [],
   "source": [
    "import torch\n",
    "import pickle"
   ]
  },
  {
   "cell_type": "code",
   "execution_count": 2,
   "metadata": {},
   "outputs": [],
   "source": [
    "seed = 0"
   ]
  },
  {
   "cell_type": "code",
   "execution_count": 3,
   "metadata": {},
   "outputs": [],
   "source": [
    "dataset_a = [[6, 8, 7, 4, 2, 3, 0],\n",
    "             [1, 8, 7, 4, 2, 3, 5],\n",
    "             [6, 3, 4, 2, 7, 8, 5],\n",
    "             [1, 3, 4, 2, 7, 8, 0],\n",
    "             [0, 9, 7, 8, 5, 3, 4, 1],\n",
    "             [2, 9, 7, 8, 5, 3, 4, 6],\n",
    "             [0, 4, 3, 5, 8, 7, 9, 6],\n",
    "             [2, 4, 3, 5, 8, 7, 9, 1]]\n",
    "\n",
    "dataset_b = [[6, 8, 7, 4, 2, 3, 5],\n",
    "             [1, 8, 7, 4, 2, 3, 0],\n",
    "             [6, 3, 4, 2, 7, 8, 0],\n",
    "             [1, 3, 4, 2, 7, 8, 5],\n",
    "             [0, 9, 7, 8, 5, 3, 4, 6],\n",
    "             [2, 9, 7, 8, 5, 3, 4, 1],\n",
    "             [0, 4, 3, 5, 8, 7, 9, 1],\n",
    "             [2, 4, 3, 5, 8, 7, 9, 6]]"
   ]
  },
  {
   "cell_type": "code",
   "execution_count": 4,
   "metadata": {},
   "outputs": [],
   "source": [
    "class Encoder():\n",
    "    def __init__(self):\n",
    "        self.seen = set()\n",
    "\n",
    "    def noise(self):\n",
    "        n = int(torch.randint(50000, (1, )) + 10)\n",
    "        while n in self.seen:\n",
    "            n = int(torch.randint(50000, (1, )) + 10)\n",
    "        self.seen.add(n)\n",
    "        return int(n)"
   ]
  },
  {
   "cell_type": "code",
   "execution_count": 5,
   "metadata": {},
   "outputs": [],
   "source": [
    "def refresh_clean(sequence, target, it):\n",
    "    dataset = dataset_a if it < 10000 else dataset_b\n",
    "    torch.manual_seed(seed+it)\n",
    "    c = list(dataset[torch.randint(0, len(dataset), (1, ))]) + [-1]\n",
    "    encoder.noise()\n",
    "    t = c[1:] + [-1]\n",
    "    sequence.extend(c)\n",
    "    target.extend(t)\n",
    "    \n",
    "def refresh_noisy(sequence, target, it):\n",
    "    dataset = dataset_a if it < 10000 else dataset_b\n",
    "    torch.manual_seed(seed+it)\n",
    "    c = list(dataset[torch.randint(0, len(dataset), (1, ))]) + [encoder.noise()]\n",
    "    t = c[1:] + [-1]\n",
    "    sequence.extend(c)\n",
    "    target.extend(t)"
   ]
  },
  {
   "cell_type": "code",
   "execution_count": 6,
   "metadata": {},
   "outputs": [],
   "source": [
    "encoder = Encoder()\n",
    "def generate_stream(refresh):\n",
    "    torch.manual_seed(seed)\n",
    "    history, sequence, target = [], [], []\n",
    "    refresh(sequence, target, 0)\n",
    "    for it in range(0, 20000):\n",
    "        csymbol = sequence.pop(0)\n",
    "        tsymbol = target.pop(0)\n",
    "        history.append(csymbol)\n",
    "        if len(sequence) == 0:\n",
    "            refresh(sequence, target, it)\n",
    "    return history + sequence"
   ]
  },
  {
   "cell_type": "code",
   "execution_count": 7,
   "metadata": {},
   "outputs": [],
   "source": [
    "clean_stream = generate_stream(refresh_clean)\n",
    "noisy_stream = generate_stream(refresh_noisy)"
   ]
  },
  {
   "cell_type": "code",
   "execution_count": 8,
   "metadata": {},
   "outputs": [],
   "source": [
    "data = {'clean': clean_stream, 'noisy': noisy_stream}"
   ]
  },
  {
   "cell_type": "code",
   "execution_count": 9,
   "metadata": {},
   "outputs": [],
   "source": [
    "file = open('dataset.pkl', 'wb')\n",
    "pickle.dump(data, file)"
   ]
  }
 ],
 "metadata": {
  "kernelspec": {
   "display_name": "Python 3",
   "language": "python",
   "name": "python3"
  },
  "language_info": {
   "codemirror_mode": {
    "name": "ipython",
    "version": 3
   },
   "file_extension": ".py",
   "mimetype": "text/x-python",
   "name": "python",
   "nbconvert_exporter": "python",
   "pygments_lexer": "ipython3",
   "version": "3.6.8"
  }
 },
 "nbformat": 4,
 "nbformat_minor": 2
}
