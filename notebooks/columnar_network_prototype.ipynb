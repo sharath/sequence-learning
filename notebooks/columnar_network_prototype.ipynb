{
 "cells": [
  {
   "cell_type": "code",
   "execution_count": 1,
   "metadata": {},
   "outputs": [],
   "source": [
    "import torch\n",
    "import pickle\n",
    "import numpy as np\n",
    "from time import time as T\n",
    "from bindsnet.network import Network\n",
    "from bindsnet.network.nodes import RealInput, LIFNodes\n",
    "from bindsnet.network.topology import Connection\n",
    "from bindsnet.network.monitors import Monitor\n",
    "from bindsnet.learning import Hebbian\n",
    "from IPython.display import clear_output"
   ]
  },
  {
   "cell_type": "code",
   "execution_count": 2,
   "metadata": {},
   "outputs": [],
   "source": [
    "import matplotlib.pyplot as plt"
   ]
  },
  {
   "cell_type": "code",
   "execution_count": 3,
   "metadata": {},
   "outputs": [],
   "source": [
    "def moving_average(a, n=100):\n",
    "    moving_average = []\n",
    "    for i in range(len(a)):\n",
    "        start = max(0, i - n)\n",
    "        values = a[start:i+1]\n",
    "        moving_average.append(np.sum(values) / float(len(values)))\n",
    "    return np.array(moving_average)"
   ]
  },
  {
   "cell_type": "code",
   "execution_count": 4,
   "metadata": {},
   "outputs": [],
   "source": [
    "class Encoder():\n",
    "    def __init__(self, e_size=25):\n",
    "        self.encodings = {}\n",
    "        self.e_size = e_size\n",
    "\n",
    "    def encode(self, x):\n",
    "        if x in self.encodings:\n",
    "            return self.encodings[x]\n",
    "        self.encodings[x] = torch.rand(e_size)\n",
    "        return self.encodings[x]\n",
    "\n",
    "    def decode(self, v):\n",
    "        nearest = None\n",
    "        best = float('inf')\n",
    "        for x, e in self.encodings.items():\n",
    "            dist = (torch.sum((v - e).pow(2))).pow(0.5)\n",
    "            if dist < best:\n",
    "                best = dist\n",
    "                nearest = x\n",
    "        return nearest\n",
    "    \n",
    "    def precode(self, stream):\n",
    "        for i in stream:\n",
    "            self.encode(i)"
   ]
  },
  {
   "cell_type": "code",
   "execution_count": 5,
   "metadata": {},
   "outputs": [],
   "source": [
    "class KNNClassifier:\n",
    "    def __init__(self, k=1):\n",
    "        self.k = k\n",
    "        self.data = []\n",
    "    def add_sample(self, sample, label):\n",
    "        self.data.append((sample, label))\n",
    "    def classify(self, new_sample):\n",
    "        distances = [(None, float('inf'))]*self.k\n",
    "        for sample, label in self.data:\n",
    "            dist = torch.sum(torch.abs(new_sample-sample))\n",
    "            for i, (_, best_dist) in enumerate(distances):\n",
    "                if dist < best_dist:\n",
    "                    distances[i] = (label, dist)\n",
    "                    break\n",
    "        counts = {}\n",
    "        for p_label, _ in distances:\n",
    "            if p_label not in counts:\n",
    "                counts[p_label] = 0\n",
    "            counts[p_label] += 1\n",
    "        counts = list(counts.items())\n",
    "        counts.sort(key=lambda x: x[1])\n",
    "        return counts[0][0]"
   ]
  },
  {
   "cell_type": "code",
   "execution_count": 6,
   "metadata": {},
   "outputs": [],
   "source": [
    "class Prototype(Network):\n",
    "    def __init__(self, encoder, dt: float = 1.0, lag: int = 10, n_neurons: int = 100, time: int = 100):\n",
    "        super().__init__(dt=dt)\n",
    "        self.n_neurons = n_neurons\n",
    "        self.lag = lag\n",
    "        self.encoder = encoder\n",
    "        self.time = time\n",
    "        \n",
    "        for i in range(lag):\n",
    "            self.add_layer(RealInput(n=encoder.e_size, traces=True), name=f'input_{i+1}')\n",
    "            self.add_layer(LIFNodes(n=self.n_neurons, traces=True), name=f'column_{i+1}')\n",
    "            self.add_monitor(Monitor(self.layers[f'column_{i+1}'], ['s'], time=self.time), name=f'monitor_{i+1}')\n",
    "            w = 0.3 * torch.rand(self.encoder.e_size, self.n_neurons)\n",
    "            self.add_connection(Connection(source=self.layers[f'input_{i+1}'], target=self.layers[f'column_{i+1}'], update_rule=Hebbian, w=w), source=f'input_{i+1}', target=f'column_{i+1}')\n",
    "        \n",
    "        for i in range(lag):\n",
    "            for j in range(lag):\n",
    "                w = -0.2 * torch.rand(self.n_neurons, self.n_neurons)\n",
    "                self.add_connection(Connection(source=self.layers[f'column_{i+1}'], target=self.layers[f'column_{j+1}'], w=w), source=f'column_{i+1}', target=f'column_{j+1}')      \n",
    "                \n",
    "                \n",
    "    def run(self, inpts, **kwargs) -> None:\n",
    "        inpts = {k:self.encoder.encode(v).repeat(self.time, 1) for k, v in inpts.items()}\n",
    "        super().run(inpts, self.time, **kwargs)\n"
   ]
  },
  {
   "cell_type": "code",
   "execution_count": 7,
   "metadata": {},
   "outputs": [],
   "source": [
    "e_size = 25\n",
    "lag = 10\n",
    "n_neurons = 100\n",
    "runtime = 100"
   ]
  },
  {
   "cell_type": "code",
   "execution_count": 8,
   "metadata": {},
   "outputs": [
    {
     "name": "stdout",
     "output_type": "stream",
     "text": [
      "19475 5\n",
      "0.0\n"
     ]
    }
   ],
   "source": [
    "stream = pickle.load(open('dataset.pkl', 'rb'))['noisy']\n",
    "encoder = Encoder(e_size)\n",
    "encoder.precode([0, 1, 2, 3, 4, 5, 6, 7, 8, 9])\n",
    "\n",
    "net = Prototype(encoder, lag=lag, time=runtime, n_neurons=n_neurons)\n",
    "classifier = KNNClassifier()\n",
    "\n",
    "plot = False\n",
    "correct = []\n",
    "stimes = []\n",
    "ctimes = []\n",
    "for cur in range(10,35):\n",
    "    inpt = {f'input_{i+1}': stream[cur+i-10] for i in range(lag)}\n",
    "    target = stream[cur]\n",
    "    \n",
    "    start = T()\n",
    "    \n",
    "    net.reset_()\n",
    "    net.run(inpt)\n",
    "    \n",
    "    stimes.append(T()-start)\n",
    "    \n",
    "    start = T()    \n",
    "    \n",
    "    readout = torch.zeros(lag, runtime*n_neurons)\n",
    "    for i in range(lag):\n",
    "        readout[i] = net.monitors[f'monitor_{i+1}'].get('s').view(-1)\n",
    "    prediction = classifier.classify(readout)\n",
    "    \n",
    "    if stream[cur+1] >= 10:\n",
    "        correct.append(int(prediction == target))\n",
    "        print(prediction, target)\n",
    "        print(moving_average(correct)[-1])\n",
    "        clear_output(wait=True)\n",
    "        \n",
    "    classifier.add_sample(readout, target)\n",
    "    \n",
    "    ctimes.append(T()-start)\n",
    "        \n",
    "    if plot:\n",
    "        plt.figure(figsize=(25, 10))\n",
    "        plt.suptitle(f'Target: {target}')\n",
    "        for i in range(lag):\n",
    "            plt.subplot(2, lag//2, i+1)\n",
    "            plt.title(f'Column {i+1} Spikes for {stream[cur+i-9]}')\n",
    "            plt.imshow(net.monitors[f'monitor_{i+1}'].get('s'))\n",
    "            plt.pause(1e-5)"
   ]
  },
  {
   "cell_type": "code",
   "execution_count": 9,
   "metadata": {},
   "outputs": [
    {
     "data": {
      "text/plain": [
       "[<matplotlib.lines.Line2D at 0x7fd26c961128>]"
      ]
     },
     "execution_count": 9,
     "metadata": {},
     "output_type": "execute_result"
    },
    {
     "data": {
      "image/png": "[encoded data removed]",
      "text/plain": [
       "<Figure size 432x288 with 1 Axes>"
      ]
     },
     "metadata": {
      "needs_background": "light"
     },
     "output_type": "display_data"
    }
   ],
   "source": [
    "plt.plot(moving_average(correct))"
   ]
  },
  {
   "cell_type": "code",
   "execution_count": 10,
   "metadata": {},
   "outputs": [
    {
     "data": {
      "text/plain": [
       "[<matplotlib.lines.Line2D at 0x7fd26c8834a8>]"
      ]
     },
     "execution_count": 10,
     "metadata": {},
     "output_type": "execute_result"
    },
    {
     "data": {
      "image/png": "[encoded data removed]",
      "text/plain": [
       "<Figure size 432x288 with 1 Axes>"
      ]
     },
     "metadata": {
      "needs_background": "light"
     },
     "output_type": "display_data"
    }
   ],
   "source": [
    "plt.plot(stimes)\n",
    "plt.plot(ctimes)"
   ]
  },
  {
   "cell_type": "code",
   "execution_count": 11,
   "metadata": {},
   "outputs": [],
   "source": [
    "import sys\n",
    "from numbers import Number\n",
    "from collections import Set, Mapping, deque\n",
    "\n",
    "try: # Python 2\n",
    "    zero_depth_bases = (basestring, Number, xrange, bytearray)\n",
    "    iteritems = 'iteritems'\n",
    "except NameError: # Python 3\n",
    "    zero_depth_bases = (str, bytes, Number, range, bytearray)\n",
    "    iteritems = 'items'\n",
    "\n",
    "def getsize(obj_0):\n",
    "    \"\"\"Recursively iterate to sum size of object & members.\"\"\"\n",
    "    _seen_ids = set()\n",
    "    def inner(obj):\n",
    "        obj_id = id(obj)\n",
    "        if obj_id in _seen_ids:\n",
    "            return 0\n",
    "        _seen_ids.add(obj_id)\n",
    "        size = sys.getsizeof(obj)\n",
    "        if isinstance(obj, zero_depth_bases):\n",
    "            pass # bypass remaining control flow and return\n",
    "        elif isinstance(obj, (tuple, list, Set, deque)):\n",
    "            size += sum(inner(i) for i in obj)\n",
    "        elif isinstance(obj, Mapping) or hasattr(obj, iteritems):\n",
    "            size += sum(inner(k) + inner(v) for k, v in getattr(obj, iteritems)())\n",
    "        # Check for custom object instances - may subclass above too\n",
    "        if hasattr(obj, '__dict__'):\n",
    "            size += inner(vars(obj))\n",
    "        if hasattr(obj, '__slots__'): # can have __slots__ with __dict__\n",
    "            size += sum(inner(getattr(obj, s)) for s in obj.__slots__ if hasattr(obj, s))\n",
    "        return size\n",
    "    return inner(obj_0)"
   ]
  },
  {
   "cell_type": "code",
   "execution_count": 12,
   "metadata": {},
   "outputs": [
    {
     "data": {
      "text/plain": [
       "7067"
      ]
     },
     "execution_count": 12,
     "metadata": {},
     "output_type": "execute_result"
    }
   ],
   "source": [
    "getsize(classifier)"
   ]
  }
 ],
 "metadata": {
  "kernelspec": {
   "display_name": "python3-local",
   "language": "python",
   "name": "python3"
  },
  "language_info": {
   "codemirror_mode": {
    "name": "ipython",
    "version": 3
   },
   "file_extension": ".py",
   "mimetype": "text/x-python",
   "name": "python",
   "nbconvert_exporter": "python",
   "pygments_lexer": "ipython3",
   "version": "3.6.8"
  }
 },
 "nbformat": 4,
 "nbformat_minor": 2
}
