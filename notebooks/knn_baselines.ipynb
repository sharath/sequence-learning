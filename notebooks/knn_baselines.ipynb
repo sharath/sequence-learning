{
 "cells": [
  {
   "cell_type": "code",
   "execution_count": null,
   "metadata": {},
   "outputs": [],
   "source": [
    "import numpy as np\n",
    "import matplotlib.pyplot as plt\n",
    "import pickle\n",
    "import torch\n",
    "from tqdm import tqdm"
   ]
  },
  {
   "cell_type": "code",
   "execution_count": null,
   "metadata": {},
   "outputs": [],
   "source": [
    "def moving_average(a, n=100):\n",
    "    moving_average = []\n",
    "    for i in range(len(a)):\n",
    "        start = max(0, i - n)\n",
    "        values = a[start:i+1]\n",
    "        moving_average.append(np.sum(values) / float(len(values)))\n",
    "    return np.array(moving_average)"
   ]
  },
  {
   "cell_type": "code",
   "execution_count": null,
   "metadata": {},
   "outputs": [],
   "source": [
    "class KNNClassifier:\n",
    "    def __init__(self, k=1):\n",
    "        self.k = k\n",
    "        self.data = []\n",
    "    def add_sample(self, sample, label):\n",
    "        self.data.append((sample, label))\n",
    "    def classify(self, new_sample):\n",
    "        distances = [(None, 10000)]*self.k\n",
    "        for sample, label in self.data:\n",
    "            dist = torch.sum(new_sample != sample)\n",
    "            for i, (_, best_dist) in enumerate(distances):\n",
    "                if dist < best_dist:\n",
    "                    distances[i] = (label, dist)\n",
    "                    break\n",
    "        counts = {}\n",
    "        for p_label, _ in distances:\n",
    "            if p_label not in counts:\n",
    "                counts[p_label] = 0\n",
    "            counts[p_label] += 1\n",
    "        counts = list(counts.items())\n",
    "        counts.sort(key=lambda x: x[1])\n",
    "        return counts[0][0]"
   ]
  },
  {
   "cell_type": "code",
   "execution_count": null,
   "metadata": {},
   "outputs": [],
   "source": [
    "stream = pickle.load(open('dataset.pkl', 'rb'))['noisy']"
   ]
  },
  {
   "cell_type": "code",
   "execution_count": null,
   "metadata": {},
   "outputs": [],
   "source": [
    "classifier = KNNClassifier()\n",
    "x = []\n",
    "correct = []\n",
    "for cur in tqdm(range(10, len(stream))):\n",
    "    readout = torch.tensor(stream[cur-10:cur])    \n",
    "    target = stream[cur]\n",
    "    prediction = classifier.classify(readout)\n",
    "    \n",
    "    if stream[cur+1] >= 10:\n",
    "        x.append(cur)\n",
    "        correct.append(int(prediction == target))\n",
    "        \n",
    "    classifier.add_sample(readout, target)"
   ]
  },
  {
   "cell_type": "code",
   "execution_count": null,
   "metadata": {},
   "outputs": [],
   "source": [
    "plt.figure(figsize=(15, 8))\n",
    "plt.plot(x, moving_average(correct))\n",
    "plt.legend()\n",
    "plt.xticks(np.linspace(0, 20000, 11))\n",
    "plt.xlim(0, 20000)\n",
    "plt.ylim(0, 1)\n",
    "plt.grid()\n",
    "plt.savefig('knn_hamming.pdf', dpi=150)\n",
    "plt.show()"
   ]
  },
  {
   "cell_type": "code",
   "execution_count": null,
   "metadata": {},
   "outputs": [],
   "source": [
    "class Encoder():\n",
    "    def __init__(self, e_size=25):\n",
    "        self.encodings = {}\n",
    "        self.e_size = e_size\n",
    "\n",
    "    def encode(self, x):\n",
    "        if x in self.encodings:\n",
    "            return self.encodings[x]\n",
    "        self.encodings[x] = torch.rand(e_size)\n",
    "        return self.encodings[x]\n",
    "\n",
    "    def decode(self, v):\n",
    "        nearest = None\n",
    "        best = float('inf')\n",
    "        for x, e in self.encodings.items():\n",
    "            dist = (torch.sum((v - e).pow(2))).pow(0.5)\n",
    "            if dist < best:\n",
    "                best = dist\n",
    "                nearest = x\n",
    "        return nearest\n",
    "    \n",
    "    def precode(self, stream):\n",
    "        for i in stream:\n",
    "            self.encode(i)"
   ]
  },
  {
   "cell_type": "code",
   "execution_count": null,
   "metadata": {},
   "outputs": [],
   "source": [
    "class KNNClassifier:\n",
    "    def __init__(self, k=1):\n",
    "        self.k = k\n",
    "        self.data = []\n",
    "    def add_sample(self, sample, label):\n",
    "        self.data.append((sample, label))\n",
    "    def classify(self, new_sample):\n",
    "        distances = [(None, 10000)]*self.k\n",
    "        for sample, label in self.data:\n",
    "            dist = torch.sum(torch.abs(new_sample - sample))\n",
    "            for i, (_, best_dist) in enumerate(distances):\n",
    "                if dist < best_dist:\n",
    "                    distances[i] = (label, dist)\n",
    "                    break\n",
    "        counts = {}\n",
    "        for p_label, _ in distances:\n",
    "            if p_label not in counts:\n",
    "                counts[p_label] = 0\n",
    "            counts[p_label] += 1\n",
    "        counts = list(counts.items())\n",
    "        counts.sort(key=lambda x: x[1])\n",
    "        return counts[0][0]"
   ]
  },
  {
   "cell_type": "code",
   "execution_count": null,
   "metadata": {},
   "outputs": [],
   "source": [
    "e_size = 25\n",
    "stream = pickle.load(open('dataset.pkl', 'rb'))['noisy']\n",
    "encoder = Encoder(e_size)\n",
    "encoder.precode([0, 1, 2, 3, 4, 5, 6, 7, 8, 9])"
   ]
  },
  {
   "cell_type": "code",
   "execution_count": null,
   "metadata": {},
   "outputs": [],
   "source": [
    "classifier = KNNClassifier()\n",
    "x = []\n",
    "correct = []\n",
    "for cur in tqdm(range(10, len(stream))):\n",
    "    inpt = stream[cur-10:cur]\n",
    "    readout = torch.zeros(10*25)\n",
    "    for j, s in enumerate(inpt):\n",
    "        readout[j*25:(j+1)*25] = encoder.encode(s)\n",
    "    \n",
    "    target = stream[cur]\n",
    "    prediction = classifier.classify(readout)\n",
    "    \n",
    "    if stream[cur+1] >= 10:\n",
    "        x.append(cur)\n",
    "        correct.append(int(prediction == target))\n",
    "        \n",
    "    classifier.add_sample(readout, target)"
   ]
  },
  {
   "cell_type": "code",
   "execution_count": null,
   "metadata": {},
   "outputs": [],
   "source": [
    "plt.figure(figsize=(15, 8))\n",
    "plt.plot(x, moving_average(correct))\n",
    "plt.legend()\n",
    "plt.xticks(np.linspace(0, 20000, 11))\n",
    "plt.xlim(0, 20000)\n",
    "plt.ylim(0, 1)\n",
    "plt.grid()\n",
    "plt.savefig('knn_mae.pdf', dpi=150)\n",
    "plt.show()"
   ]
  }
 ],
 "metadata": {
  "kernelspec": {
   "display_name": "python3-local",
   "language": "python",
   "name": "python3"
  },
  "language_info": {
   "codemirror_mode": {
    "name": "ipython",
    "version": 3
   },
   "file_extension": ".py",
   "mimetype": "text/x-python",
   "name": "python",
   "nbconvert_exporter": "python",
   "pygments_lexer": "ipython3",
   "version": "3.6.8"
  }
 },
 "nbformat": 4,
 "nbformat_minor": 2
}
