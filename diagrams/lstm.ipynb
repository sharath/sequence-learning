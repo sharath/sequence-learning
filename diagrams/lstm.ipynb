{
 "cells": [
  {
   "cell_type": "code",
   "execution_count": 4,
   "metadata": {},
   "outputs": [],
   "source": [
    "import numpy as np\n",
    "import matplotlib.pyplot as plt"
   ]
  },
  {
   "cell_type": "code",
   "execution_count": null,
   "metadata": {},
   "outputs": [],
   "source": [
    "fig = plt.figure(figsize=(12, 12))\n",
    "ax = plt.gca()\n",
    "edgecolor = (0, 0, 0, 0.7)\n",
    "neuroncolor = (0, 0, 0)\n",
    "lstmneuron = (0, 0.5, 0.5)\n",
    "r = 0.0335\n",
    "ax.text(0.4, 1, 'LSTM Network Model', size=20, ha='center', va='center')\n",
    "\n",
    "for i in range(0, 25):\n",
    "    ax.add_artist(plt.Line2D([-0.01, 0.1], [0.5, (0.1 + r*i)], c=edgecolor, linewidth=0.3))\n",
    "    ax.add_artist(plt.Circle((0.1, 0.1 + r*i), 0.01, color='white', ec=neuroncolor, linewidth=1, zorder=4))\n",
    "    \n",
    "ax.text(0.1, 0, '25 Input', size=15, ha='center', va='center')\n",
    "for i in range(0, 20):\n",
    "    ax.add_artist(plt.Circle((0.4, 0.2 + r*i), 0.01, color='white', ec=lstmneuron, linewidth=1, zorder=4))\n",
    "    for j in range(0, 25):\n",
    "        ax.add_artist(plt.Line2D([0.1, 0.4], [(0.1 + r*j), (0.2 + r*i)], c=edgecolor, linewidth=0.3))\n",
    "ax.text(0.4, 0, '20 Hidden\\nLSTM Cells', size=15, ha='center', va='center')\n",
    "\n",
    "for i in range(0, 25):\n",
    "    for j in range(0, 20):\n",
    "        ax.add_artist(plt.Line2D([0.4, 0.7], [(0.2 + r*j), (0.1 + r*i)], c=edgecolor, linewidth=0.3))\n",
    "    ax.add_artist(plt.Circle((0.7, 0.1 + r*i), 0.01, color='white', ec=neuroncolor, linewidth=1, zorder=4))\n",
    "    ax.add_artist(plt.Line2D([0.7, 0.805], [(0.1 + r*i), 0.5], c=edgecolor, linewidth=0.3))\n",
    "ax.text(0.7, 0, '25 Output', size=15, ha='center', va='center')\n",
    "\n",
    "ax.text(-0.08, 0.65, 'Character$_t$', size=12, ha='center', va='center')\n",
    "ax.add_artist(plt.Arrow(-0.08, 0.625, 0, -0.07, fill=False, width=0.04))\n",
    "ax.add_artist(plt.Rectangle((-0.16, 0.465), 0.15, 0.08, fill=False))\n",
    "\n",
    "ax.text(-0.08, 0.5, 'Encoder', size=12, ha='center', va='center')\n",
    "ax.add_artist(plt.Rectangle((0.805, 0.465), 0.15, 0.08, fill=False))\n",
    "ax.text(0.88, 0.5, 'Decoder', size=12, ha='center', va='center')\n",
    "ax.add_artist(plt.Arrow(0.88, 0.445, 0, -0.07, fill=False, width=0.04))\n",
    "ax.text(0.88, 0.35, 'Character$_{t+1}$', size=12, ha='center', va='center')\n",
    "\n",
    "ax.axis('off')\n",
    "ax.set_aspect('equal', adjustable='box')\n",
    "plt.xlim(-0.2, 1)\n",
    "plt.ylim(0, 1)\n",
    "plt.savefig('lstm.pdf', dpi=200)\n",
    "plt.savefig('lstm.png', dpi=200)\n",
    "plt.savefig('lstm.svg', type='svg')\n",
    "plt.show()"
   ]
  }
 ],
 "metadata": {
  "kernelspec": {
   "display_name": "python3-local",
   "language": "python",
   "name": "python3"
  },
  "language_info": {
   "codemirror_mode": {
    "name": "ipython",
    "version": 3
   },
   "file_extension": ".py",
   "mimetype": "text/x-python",
   "name": "python",
   "nbconvert_exporter": "python",
   "pygments_lexer": "ipython3",
   "version": "3.6.8"
  }
 },
 "nbformat": 4,
 "nbformat_minor": 2
}
